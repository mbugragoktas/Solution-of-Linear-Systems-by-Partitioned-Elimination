{
 "cells": [
  {
   "cell_type": "markdown",
   "metadata": {},
   "source": [
    "#  PARTSOLV.G: solution of linear systems by partitioned elimination"
   ]
  },
  {
   "cell_type": "code",
   "execution_count": 1,
   "metadata": {},
   "outputs": [],
   "source": [
    "import numpy as np\n",
    "import numpy.linalg as lin"
   ]
  },
  {
   "cell_type": "code",
   "execution_count": 2,
   "metadata": {},
   "outputs": [],
   "source": [
    "modnum = np.array([4,3,2,1,2])"
   ]
  },
  {
   "cell_type": "code",
   "execution_count": 3,
   "metadata": {},
   "outputs": [],
   "source": [
    "bet = 0.6"
   ]
  },
  {
   "cell_type": "code",
   "execution_count": 4,
   "metadata": {},
   "outputs": [],
   "source": [
    "z = np.array([[1,2,3],[4,5,6],[7,8,9],[10,11,12],[13,14,15],[16,17,18],[19,20,21],[22,23,24]])"
   ]
  },
  {
   "cell_type": "code",
   "execution_count": 5,
   "metadata": {},
   "outputs": [
    {
     "data": {
      "text/plain": [
       "array([[ 1,  2,  3],\n",
       "       [ 4,  5,  6],\n",
       "       [ 7,  8,  9],\n",
       "       [10, 11, 12],\n",
       "       [13, 14, 15],\n",
       "       [16, 17, 18],\n",
       "       [19, 20, 21],\n",
       "       [22, 23, 24]])"
      ]
     },
     "execution_count": 5,
     "metadata": {},
     "output_type": "execute_result"
    }
   ],
   "source": [
    "z"
   ]
  },
  {
   "cell_type": "code",
   "execution_count": 6,
   "metadata": {},
   "outputs": [],
   "source": [
    "m = 3\n",
    "n = 6"
   ]
  },
  {
   "cell_type": "code",
   "execution_count": 7,
   "metadata": {},
   "outputs": [],
   "source": [
    "pk = np.array([[1],[2],[3],[4],[5],[6],[7],[8],[9],[10]], ndmin=2)"
   ]
  },
  {
   "cell_type": "code",
   "execution_count": 8,
   "metadata": {},
   "outputs": [
    {
     "data": {
      "text/plain": [
       "array([[ 1],\n",
       "       [ 2],\n",
       "       [ 3],\n",
       "       [ 4],\n",
       "       [ 5],\n",
       "       [ 6],\n",
       "       [ 7],\n",
       "       [ 8],\n",
       "       [ 9],\n",
       "       [10]])"
      ]
     },
     "execution_count": 8,
     "metadata": {},
     "output_type": "execute_result"
    }
   ],
   "source": [
    "pk"
   ]
  },
  {
   "cell_type": "code",
   "execution_count": 15,
   "metadata": {},
   "outputs": [
    {
     "data": {
      "text/plain": [
       "array([[ 2,  4, -5],\n",
       "       [ 0,  2, -1],\n",
       "       [ 0,  0,  1]])"
      ]
     },
     "execution_count": 15,
     "metadata": {},
     "output_type": "execute_result"
    }
   ],
   "source": [
    "q22 = np.array([[2,4,-5],[0,2,-1],[0,0,1]])\n",
    "q22"
   ]
  },
  {
   "cell_type": "code",
   "execution_count": 18,
   "metadata": {},
   "outputs": [
    {
     "data": {
      "text/plain": [
       "array([[ 2,  4,  6,  8, 10, 12,  0,  0],\n",
       "       [ 0,  2,  4,  6,  8, 10, 12,  0],\n",
       "       [ 0,  0,  2,  4,  6,  8, 10, 12]])"
      ]
     },
     "execution_count": 18,
     "metadata": {},
     "output_type": "execute_result"
    }
   ],
   "source": [
    "q11 = np.array([[2,4,6,8,10,12,0,0],[0,2,4,6,8,10,12,0],[0,0,2,4,6,8,10,12]])\n",
    "q11"
   ]
  },
  {
   "cell_type": "code",
   "execution_count": 19,
   "metadata": {},
   "outputs": [],
   "source": [
    "def partsolv(z):\n",
    "    y1 = z[0:m:,]\n",
    "    y2 = z[m:n,]\n",
    "    cy = np.shape(z)[1]\n",
    "    cq = modnum[4]\n",
    "    q21 = lin.solve((np.eye(n-m)-(q22*(bet*pk[m:n,0]).transpose())),np.concatenate([y2,(np.array([bet-np.sum((q22*(bet*pk[m:n,0]).transpose()).transpose(),axis=0)]).transpose())],axis=1))\n",
    "    q12 = np.dot((q11[:,3:5]*(bet*pk[3:5,0]).transpose()), q21[0:cq])\n",
    "    l = np.array([bet - np.sum((q11[:,1:m+cq]*(bet*pk[1:m+cq,0]).transpose()).transpose(),axis=0)]).T\n",
    "    t = np.concatenate([np.array([q12[:,cy]]).transpose(),q11[:,1:m]*(bet*pk[1:m,0])], axis=1)\n",
    "    t[:,0] = l[:,0] + t [:,0]\n",
    "    y1 = lin.solve((np.eye(3)-t),(y1+q12[:,0:cy]))\n",
    "    y2 = q21[:,0:cy]+np.array([q21[:,0+cy]]).T*y1[0,0:cy]\n",
    "    return np.concatenate([y1,y2],axis=0)\n",
    "    \n",
    "    "
   ]
  },
  {
   "cell_type": "code",
   "execution_count": 20,
   "metadata": {},
   "outputs": [
    {
     "data": {
      "text/plain": [
       "array([[40.18850303, 42.68850303, 45.18850303],\n",
       "       [40.23477568, 42.73477568, 45.23477568],\n",
       "       [40.28104832, 42.78104832, 45.28104832],\n",
       "       [39.91636689, 42.41636689, 44.91636689],\n",
       "       [40.82446361, 43.32446361, 45.82446361],\n",
       "       [40.2175035 , 42.7175035 , 45.2175035 ]])"
      ]
     },
     "execution_count": 20,
     "metadata": {},
     "output_type": "execute_result"
    }
   ],
   "source": [
    "partsolv(z)"
   ]
  }
 ],
 "metadata": {
  "kernelspec": {
   "display_name": "Python 3",
   "language": "python",
   "name": "python3"
  },
  "language_info": {
   "codemirror_mode": {
    "name": "ipython",
    "version": 3
   },
   "file_extension": ".py",
   "mimetype": "text/x-python",
   "name": "python",
   "nbconvert_exporter": "python",
   "pygments_lexer": "ipython3",
   "version": "3.7.3"
  }
 },
 "nbformat": 4,
 "nbformat_minor": 2
}
